{
 "cells": [
  {
   "cell_type": "code",
   "execution_count": 1,
   "metadata": {},
   "outputs": [],
   "source": [
    "import numpy as np\n",
    "import pandas as pd"
   ]
  },
  {
   "cell_type": "code",
   "execution_count": 2,
   "metadata": {},
   "outputs": [],
   "source": [
    "data = pd.read_csv('C:\\\\Users\\\\Admin\\\\Desktop\\Anu_shri\\\\senti_donald.csv',encoding = 'ISO-8859-1')"
   ]
  },
  {
   "cell_type": "code",
   "execution_count": 3,
   "metadata": {},
   "outputs": [
    {
     "data": {
      "text/html": [
       "<div>\n",
       "<style scoped>\n",
       "    .dataframe tbody tr th:only-of-type {\n",
       "        vertical-align: middle;\n",
       "    }\n",
       "\n",
       "    .dataframe tbody tr th {\n",
       "        vertical-align: top;\n",
       "    }\n",
       "\n",
       "    .dataframe thead th {\n",
       "        text-align: right;\n",
       "    }\n",
       "</style>\n",
       "<table border=\"1\" class=\"dataframe\">\n",
       "  <thead>\n",
       "    <tr style=\"text-align: right;\">\n",
       "      <th></th>\n",
       "      <th>tweets</th>\n",
       "    </tr>\n",
       "  </thead>\n",
       "  <tbody>\n",
       "    <tr>\n",
       "      <th>0</th>\n",
       "      <td>2019-10-23 03:30:07 RT @ericgarland: America i...</td>\n",
       "    </tr>\n",
       "    <tr>\n",
       "      <th>1</th>\n",
       "      <td>America must getâ¦</td>\n",
       "    </tr>\n",
       "    <tr>\n",
       "      <th>2</th>\n",
       "      <td>2019-10-23 03:30:06 RT @MotherJones: Sen. Amy ...</td>\n",
       "    </tr>\n",
       "    <tr>\n",
       "      <th>3</th>\n",
       "      <td>2019-10-23 03:30:06 RT @LanaDelReyFans: \"I use...</td>\n",
       "    </tr>\n",
       "    <tr>\n",
       "      <th>4</th>\n",
       "      <td>2019-10-23 03:30:06 RT @andy_arcamax: Trump sa...</td>\n",
       "    </tr>\n",
       "  </tbody>\n",
       "</table>\n",
       "</div>"
      ],
      "text/plain": [
       "                                              tweets\n",
       "0  2019-10-23 03:30:07 RT @ericgarland: America i...\n",
       "1                                America must getâ¦\n",
       "2  2019-10-23 03:30:06 RT @MotherJones: Sen. Amy ...\n",
       "3  2019-10-23 03:30:06 RT @LanaDelReyFans: \"I use...\n",
       "4  2019-10-23 03:30:06 RT @andy_arcamax: Trump sa..."
      ]
     },
     "execution_count": 3,
     "metadata": {},
     "output_type": "execute_result"
    }
   ],
   "source": [
    "data.head()"
   ]
  },
  {
   "cell_type": "code",
   "execution_count": 4,
   "metadata": {},
   "outputs": [
    {
     "data": {
      "text/html": [
       "<div>\n",
       "<style scoped>\n",
       "    .dataframe tbody tr th:only-of-type {\n",
       "        vertical-align: middle;\n",
       "    }\n",
       "\n",
       "    .dataframe tbody tr th {\n",
       "        vertical-align: top;\n",
       "    }\n",
       "\n",
       "    .dataframe thead th {\n",
       "        text-align: right;\n",
       "    }\n",
       "</style>\n",
       "<table border=\"1\" class=\"dataframe\">\n",
       "  <thead>\n",
       "    <tr style=\"text-align: right;\">\n",
       "      <th></th>\n",
       "      <th>tweets</th>\n",
       "      <th>word_count</th>\n",
       "    </tr>\n",
       "  </thead>\n",
       "  <tbody>\n",
       "    <tr>\n",
       "      <th>0</th>\n",
       "      <td>2019-10-23 03:30:07 RT @ericgarland: America i...</td>\n",
       "      <td>22</td>\n",
       "    </tr>\n",
       "    <tr>\n",
       "      <th>1</th>\n",
       "      <td>America must getâ¦</td>\n",
       "      <td>3</td>\n",
       "    </tr>\n",
       "    <tr>\n",
       "      <th>2</th>\n",
       "      <td>2019-10-23 03:30:06 RT @MotherJones: Sen. Amy ...</td>\n",
       "      <td>21</td>\n",
       "    </tr>\n",
       "    <tr>\n",
       "      <th>3</th>\n",
       "      <td>2019-10-23 03:30:06 RT @LanaDelReyFans: \"I use...</td>\n",
       "      <td>18</td>\n",
       "    </tr>\n",
       "    <tr>\n",
       "      <th>4</th>\n",
       "      <td>2019-10-23 03:30:06 RT @andy_arcamax: Trump sa...</td>\n",
       "      <td>24</td>\n",
       "    </tr>\n",
       "  </tbody>\n",
       "</table>\n",
       "</div>"
      ],
      "text/plain": [
       "                                              tweets  word_count\n",
       "0  2019-10-23 03:30:07 RT @ericgarland: America i...          22\n",
       "1                                America must getâ¦           3\n",
       "2  2019-10-23 03:30:06 RT @MotherJones: Sen. Amy ...          21\n",
       "3  2019-10-23 03:30:06 RT @LanaDelReyFans: \"I use...          18\n",
       "4  2019-10-23 03:30:06 RT @andy_arcamax: Trump sa...          24"
      ]
     },
     "execution_count": 4,
     "metadata": {},
     "output_type": "execute_result"
    }
   ],
   "source": [
    "# Feature Extraction\n",
    "# Number of words\n",
    "\n",
    "data['word_count'] = data['tweets'].apply(lambda x: len(str(x).split(\" \")))\n",
    "data[['tweets','word_count']].head()"
   ]
  },
  {
   "cell_type": "code",
   "execution_count": 5,
   "metadata": {},
   "outputs": [
    {
     "data": {
      "text/html": [
       "<div>\n",
       "<style scoped>\n",
       "    .dataframe tbody tr th:only-of-type {\n",
       "        vertical-align: middle;\n",
       "    }\n",
       "\n",
       "    .dataframe tbody tr th {\n",
       "        vertical-align: top;\n",
       "    }\n",
       "\n",
       "    .dataframe thead th {\n",
       "        text-align: right;\n",
       "    }\n",
       "</style>\n",
       "<table border=\"1\" class=\"dataframe\">\n",
       "  <thead>\n",
       "    <tr style=\"text-align: right;\">\n",
       "      <th></th>\n",
       "      <th>tweets</th>\n",
       "      <th>char_count</th>\n",
       "    </tr>\n",
       "  </thead>\n",
       "  <tbody>\n",
       "    <tr>\n",
       "      <th>0</th>\n",
       "      <td>2019-10-23 03:30:07 RT @ericgarland: America i...</td>\n",
       "      <td>141</td>\n",
       "    </tr>\n",
       "    <tr>\n",
       "      <th>1</th>\n",
       "      <td>America must getâ¦</td>\n",
       "      <td>19</td>\n",
       "    </tr>\n",
       "    <tr>\n",
       "      <th>2</th>\n",
       "      <td>2019-10-23 03:30:06 RT @MotherJones: Sen. Amy ...</td>\n",
       "      <td>162</td>\n",
       "    </tr>\n",
       "    <tr>\n",
       "      <th>3</th>\n",
       "      <td>2019-10-23 03:30:06 RT @LanaDelReyFans: \"I use...</td>\n",
       "      <td>133</td>\n",
       "    </tr>\n",
       "    <tr>\n",
       "      <th>4</th>\n",
       "      <td>2019-10-23 03:30:06 RT @andy_arcamax: Trump sa...</td>\n",
       "      <td>162</td>\n",
       "    </tr>\n",
       "  </tbody>\n",
       "</table>\n",
       "</div>"
      ],
      "text/plain": [
       "                                              tweets  char_count\n",
       "0  2019-10-23 03:30:07 RT @ericgarland: America i...         141\n",
       "1                                America must getâ¦          19\n",
       "2  2019-10-23 03:30:06 RT @MotherJones: Sen. Amy ...         162\n",
       "3  2019-10-23 03:30:06 RT @LanaDelReyFans: \"I use...         133\n",
       "4  2019-10-23 03:30:06 RT @andy_arcamax: Trump sa...         162"
      ]
     },
     "execution_count": 5,
     "metadata": {},
     "output_type": "execute_result"
    }
   ],
   "source": [
    "# Number of characters\n",
    "\n",
    "data['char_count'] = data['tweets'].str.len() ## this also includes spaces\n",
    "data[['tweets','char_count']].head()"
   ]
  },
  {
   "cell_type": "code",
   "execution_count": 6,
   "metadata": {},
   "outputs": [
    {
     "data": {
      "text/html": [
       "<div>\n",
       "<style scoped>\n",
       "    .dataframe tbody tr th:only-of-type {\n",
       "        vertical-align: middle;\n",
       "    }\n",
       "\n",
       "    .dataframe tbody tr th {\n",
       "        vertical-align: top;\n",
       "    }\n",
       "\n",
       "    .dataframe thead th {\n",
       "        text-align: right;\n",
       "    }\n",
       "</style>\n",
       "<table border=\"1\" class=\"dataframe\">\n",
       "  <thead>\n",
       "    <tr style=\"text-align: right;\">\n",
       "      <th></th>\n",
       "      <th>tweets</th>\n",
       "      <th>avg_word</th>\n",
       "    </tr>\n",
       "  </thead>\n",
       "  <tbody>\n",
       "    <tr>\n",
       "      <th>0</th>\n",
       "      <td>2019-10-23 03:30:07 RT @ericgarland: America i...</td>\n",
       "      <td>5.454545</td>\n",
       "    </tr>\n",
       "    <tr>\n",
       "      <th>1</th>\n",
       "      <td>America must getâ¦</td>\n",
       "      <td>5.666667</td>\n",
       "    </tr>\n",
       "    <tr>\n",
       "      <th>2</th>\n",
       "      <td>2019-10-23 03:30:06 RT @MotherJones: Sen. Amy ...</td>\n",
       "      <td>6.761905</td>\n",
       "    </tr>\n",
       "    <tr>\n",
       "      <th>3</th>\n",
       "      <td>2019-10-23 03:30:06 RT @LanaDelReyFans: \"I use...</td>\n",
       "      <td>6.444444</td>\n",
       "    </tr>\n",
       "    <tr>\n",
       "      <th>4</th>\n",
       "      <td>2019-10-23 03:30:06 RT @andy_arcamax: Trump sa...</td>\n",
       "      <td>5.791667</td>\n",
       "    </tr>\n",
       "  </tbody>\n",
       "</table>\n",
       "</div>"
      ],
      "text/plain": [
       "                                              tweets  avg_word\n",
       "0  2019-10-23 03:30:07 RT @ericgarland: America i...  5.454545\n",
       "1                                America must getâ¦  5.666667\n",
       "2  2019-10-23 03:30:06 RT @MotherJones: Sen. Amy ...  6.761905\n",
       "3  2019-10-23 03:30:06 RT @LanaDelReyFans: \"I use...  6.444444\n",
       "4  2019-10-23 03:30:06 RT @andy_arcamax: Trump sa...  5.791667"
      ]
     },
     "execution_count": 6,
     "metadata": {},
     "output_type": "execute_result"
    }
   ],
   "source": [
    "# Average word length\n",
    "\n",
    "def avg_word(sentence):\n",
    "  words = sentence.split()\n",
    "  return (sum(len(word) for word in words)/len(words))\n",
    "\n",
    "data['avg_word'] = data['tweets'].apply(lambda x: avg_word(x))\n",
    "data[['tweets','avg_word']].head()"
   ]
  },
  {
   "cell_type": "code",
   "execution_count": 7,
   "metadata": {},
   "outputs": [
    {
     "data": {
      "text/html": [
       "<div>\n",
       "<style scoped>\n",
       "    .dataframe tbody tr th:only-of-type {\n",
       "        vertical-align: middle;\n",
       "    }\n",
       "\n",
       "    .dataframe tbody tr th {\n",
       "        vertical-align: top;\n",
       "    }\n",
       "\n",
       "    .dataframe thead th {\n",
       "        text-align: right;\n",
       "    }\n",
       "</style>\n",
       "<table border=\"1\" class=\"dataframe\">\n",
       "  <thead>\n",
       "    <tr style=\"text-align: right;\">\n",
       "      <th></th>\n",
       "      <th>tweets</th>\n",
       "      <th>stopwords</th>\n",
       "    </tr>\n",
       "  </thead>\n",
       "  <tbody>\n",
       "    <tr>\n",
       "      <th>0</th>\n",
       "      <td>2019-10-23 03:30:07 RT @ericgarland: America i...</td>\n",
       "      <td>7</td>\n",
       "    </tr>\n",
       "    <tr>\n",
       "      <th>1</th>\n",
       "      <td>America must getâ¦</td>\n",
       "      <td>0</td>\n",
       "    </tr>\n",
       "    <tr>\n",
       "      <th>2</th>\n",
       "      <td>2019-10-23 03:30:06 RT @MotherJones: Sen. Amy ...</td>\n",
       "      <td>5</td>\n",
       "    </tr>\n",
       "    <tr>\n",
       "      <th>3</th>\n",
       "      <td>2019-10-23 03:30:06 RT @LanaDelReyFans: \"I use...</td>\n",
       "      <td>1</td>\n",
       "    </tr>\n",
       "    <tr>\n",
       "      <th>4</th>\n",
       "      <td>2019-10-23 03:30:06 RT @andy_arcamax: Trump sa...</td>\n",
       "      <td>7</td>\n",
       "    </tr>\n",
       "  </tbody>\n",
       "</table>\n",
       "</div>"
      ],
      "text/plain": [
       "                                              tweets  stopwords\n",
       "0  2019-10-23 03:30:07 RT @ericgarland: America i...          7\n",
       "1                                America must getâ¦          0\n",
       "2  2019-10-23 03:30:06 RT @MotherJones: Sen. Amy ...          5\n",
       "3  2019-10-23 03:30:06 RT @LanaDelReyFans: \"I use...          1\n",
       "4  2019-10-23 03:30:06 RT @andy_arcamax: Trump sa...          7"
      ]
     },
     "execution_count": 7,
     "metadata": {},
     "output_type": "execute_result"
    }
   ],
   "source": [
    "# Number of stopwords\n",
    "\n",
    "from nltk.corpus import stopwords\n",
    "stop = stopwords.words('english')\n",
    "\n",
    "data['stopwords'] = data['tweets'].apply(lambda x: len([x for x in x.split() if x in stop]))\n",
    "data[['tweets','stopwords']].head()"
   ]
  },
  {
   "cell_type": "code",
   "execution_count": 8,
   "metadata": {},
   "outputs": [
    {
     "data": {
      "text/html": [
       "<div>\n",
       "<style scoped>\n",
       "    .dataframe tbody tr th:only-of-type {\n",
       "        vertical-align: middle;\n",
       "    }\n",
       "\n",
       "    .dataframe tbody tr th {\n",
       "        vertical-align: top;\n",
       "    }\n",
       "\n",
       "    .dataframe thead th {\n",
       "        text-align: right;\n",
       "    }\n",
       "</style>\n",
       "<table border=\"1\" class=\"dataframe\">\n",
       "  <thead>\n",
       "    <tr style=\"text-align: right;\">\n",
       "      <th></th>\n",
       "      <th>tweets</th>\n",
       "      <th>hastags</th>\n",
       "    </tr>\n",
       "  </thead>\n",
       "  <tbody>\n",
       "    <tr>\n",
       "      <th>0</th>\n",
       "      <td>2019-10-23 03:30:07 RT @ericgarland: America i...</td>\n",
       "      <td>0</td>\n",
       "    </tr>\n",
       "    <tr>\n",
       "      <th>1</th>\n",
       "      <td>America must getâ¦</td>\n",
       "      <td>0</td>\n",
       "    </tr>\n",
       "    <tr>\n",
       "      <th>2</th>\n",
       "      <td>2019-10-23 03:30:06 RT @MotherJones: Sen. Amy ...</td>\n",
       "      <td>0</td>\n",
       "    </tr>\n",
       "    <tr>\n",
       "      <th>3</th>\n",
       "      <td>2019-10-23 03:30:06 RT @LanaDelReyFans: \"I use...</td>\n",
       "      <td>0</td>\n",
       "    </tr>\n",
       "    <tr>\n",
       "      <th>4</th>\n",
       "      <td>2019-10-23 03:30:06 RT @andy_arcamax: Trump sa...</td>\n",
       "      <td>0</td>\n",
       "    </tr>\n",
       "  </tbody>\n",
       "</table>\n",
       "</div>"
      ],
      "text/plain": [
       "                                              tweets  hastags\n",
       "0  2019-10-23 03:30:07 RT @ericgarland: America i...        0\n",
       "1                                America must getâ¦        0\n",
       "2  2019-10-23 03:30:06 RT @MotherJones: Sen. Amy ...        0\n",
       "3  2019-10-23 03:30:06 RT @LanaDelReyFans: \"I use...        0\n",
       "4  2019-10-23 03:30:06 RT @andy_arcamax: Trump sa...        0"
      ]
     },
     "execution_count": 8,
     "metadata": {},
     "output_type": "execute_result"
    }
   ],
   "source": [
    "# number of special characters\n",
    "\n",
    "data['hastags'] = data['tweets'].apply(lambda x: len([x for x in x.split() if x.startswith('#')]))\n",
    "data[['tweets','hastags']].head()"
   ]
  },
  {
   "cell_type": "code",
   "execution_count": 9,
   "metadata": {},
   "outputs": [
    {
     "data": {
      "text/html": [
       "<div>\n",
       "<style scoped>\n",
       "    .dataframe tbody tr th:only-of-type {\n",
       "        vertical-align: middle;\n",
       "    }\n",
       "\n",
       "    .dataframe tbody tr th {\n",
       "        vertical-align: top;\n",
       "    }\n",
       "\n",
       "    .dataframe thead th {\n",
       "        text-align: right;\n",
       "    }\n",
       "</style>\n",
       "<table border=\"1\" class=\"dataframe\">\n",
       "  <thead>\n",
       "    <tr style=\"text-align: right;\">\n",
       "      <th></th>\n",
       "      <th>tweets</th>\n",
       "      <th>numerics</th>\n",
       "    </tr>\n",
       "  </thead>\n",
       "  <tbody>\n",
       "    <tr>\n",
       "      <th>0</th>\n",
       "      <td>2019-10-23 03:30:07 RT @ericgarland: America i...</td>\n",
       "      <td>0</td>\n",
       "    </tr>\n",
       "    <tr>\n",
       "      <th>1</th>\n",
       "      <td>America must getâ¦</td>\n",
       "      <td>0</td>\n",
       "    </tr>\n",
       "    <tr>\n",
       "      <th>2</th>\n",
       "      <td>2019-10-23 03:30:06 RT @MotherJones: Sen. Amy ...</td>\n",
       "      <td>0</td>\n",
       "    </tr>\n",
       "    <tr>\n",
       "      <th>3</th>\n",
       "      <td>2019-10-23 03:30:06 RT @LanaDelReyFans: \"I use...</td>\n",
       "      <td>0</td>\n",
       "    </tr>\n",
       "    <tr>\n",
       "      <th>4</th>\n",
       "      <td>2019-10-23 03:30:06 RT @andy_arcamax: Trump sa...</td>\n",
       "      <td>0</td>\n",
       "    </tr>\n",
       "  </tbody>\n",
       "</table>\n",
       "</div>"
      ],
      "text/plain": [
       "                                              tweets  numerics\n",
       "0  2019-10-23 03:30:07 RT @ericgarland: America i...         0\n",
       "1                                America must getâ¦         0\n",
       "2  2019-10-23 03:30:06 RT @MotherJones: Sen. Amy ...         0\n",
       "3  2019-10-23 03:30:06 RT @LanaDelReyFans: \"I use...         0\n",
       "4  2019-10-23 03:30:06 RT @andy_arcamax: Trump sa...         0"
      ]
     },
     "execution_count": 9,
     "metadata": {},
     "output_type": "execute_result"
    }
   ],
   "source": [
    "# number of numerics\n",
    "\n",
    "data['numerics'] = data['tweets'].apply(lambda x: len([x for x in x.split() if x.isdigit()]))\n",
    "data[['tweets','numerics']].head()"
   ]
  },
  {
   "cell_type": "code",
   "execution_count": 10,
   "metadata": {},
   "outputs": [
    {
     "data": {
      "text/html": [
       "<div>\n",
       "<style scoped>\n",
       "    .dataframe tbody tr th:only-of-type {\n",
       "        vertical-align: middle;\n",
       "    }\n",
       "\n",
       "    .dataframe tbody tr th {\n",
       "        vertical-align: top;\n",
       "    }\n",
       "\n",
       "    .dataframe thead th {\n",
       "        text-align: right;\n",
       "    }\n",
       "</style>\n",
       "<table border=\"1\" class=\"dataframe\">\n",
       "  <thead>\n",
       "    <tr style=\"text-align: right;\">\n",
       "      <th></th>\n",
       "      <th>tweets</th>\n",
       "      <th>upper</th>\n",
       "    </tr>\n",
       "  </thead>\n",
       "  <tbody>\n",
       "    <tr>\n",
       "      <th>0</th>\n",
       "      <td>2019-10-23 03:30:07 RT @ericgarland: America i...</td>\n",
       "      <td>1</td>\n",
       "    </tr>\n",
       "    <tr>\n",
       "      <th>1</th>\n",
       "      <td>America must getâ¦</td>\n",
       "      <td>0</td>\n",
       "    </tr>\n",
       "    <tr>\n",
       "      <th>2</th>\n",
       "      <td>2019-10-23 03:30:06 RT @MotherJones: Sen. Amy ...</td>\n",
       "      <td>1</td>\n",
       "    </tr>\n",
       "    <tr>\n",
       "      <th>3</th>\n",
       "      <td>2019-10-23 03:30:06 RT @LanaDelReyFans: \"I use...</td>\n",
       "      <td>3</td>\n",
       "    </tr>\n",
       "    <tr>\n",
       "      <th>4</th>\n",
       "      <td>2019-10-23 03:30:06 RT @andy_arcamax: Trump sa...</td>\n",
       "      <td>1</td>\n",
       "    </tr>\n",
       "  </tbody>\n",
       "</table>\n",
       "</div>"
      ],
      "text/plain": [
       "                                              tweets  upper\n",
       "0  2019-10-23 03:30:07 RT @ericgarland: America i...      1\n",
       "1                                America must getâ¦      0\n",
       "2  2019-10-23 03:30:06 RT @MotherJones: Sen. Amy ...      1\n",
       "3  2019-10-23 03:30:06 RT @LanaDelReyFans: \"I use...      3\n",
       "4  2019-10-23 03:30:06 RT @andy_arcamax: Trump sa...      1"
      ]
     },
     "execution_count": 10,
     "metadata": {},
     "output_type": "execute_result"
    }
   ],
   "source": [
    "# number of uppercase words\n",
    "\n",
    "data['upper'] = data['tweets'].apply(lambda x: len([x for x in x.split() if x.isupper()]))\n",
    "data[['tweets','upper']].head()\n"
   ]
  },
  {
   "cell_type": "code",
   "execution_count": 11,
   "metadata": {},
   "outputs": [
    {
     "data": {
      "text/plain": [
       "0    2019-10-23 03:30:07 rt @ericgarland: america i...\n",
       "1                                  america must getâ¦\n",
       "2    2019-10-23 03:30:06 rt @motherjones: sen. amy ...\n",
       "3    2019-10-23 03:30:06 rt @lanadelreyfans: \"i use...\n",
       "4    2019-10-23 03:30:06 rt @andy_arcamax: trump sa...\n",
       "Name: tweets, dtype: object"
      ]
     },
     "execution_count": 11,
     "metadata": {},
     "output_type": "execute_result"
    }
   ],
   "source": [
    "# Pre processing\n",
    "# Lower case\n",
    "\n",
    "data['tweets'] = data['tweets'].apply(lambda x: \" \".join(x.lower() for x in x.split()))\n",
    "data['tweets'].head()"
   ]
  },
  {
   "cell_type": "code",
   "execution_count": 12,
   "metadata": {},
   "outputs": [
    {
     "data": {
      "text/plain": [
       "0    20191023 033007 rt ericgarland america is not ...\n",
       "1                                    america must getâ\n",
       "2    20191023 033006 rt motherjones sen amy klobuch...\n",
       "3    20191023 033006 rt lanadelreyfans i used witch...\n",
       "4    20191023 033006 rt andy_arcamax trump says the...\n",
       "Name: tweets, dtype: object"
      ]
     },
     "execution_count": 12,
     "metadata": {},
     "output_type": "execute_result"
    }
   ],
   "source": [
    "# removing punctuations\n",
    "\n",
    "data['tweets'] = data['tweets'].str.replace('[^\\w\\s]','')\n",
    "#data['tweets'] = data['tweets'].str.replace('[http://t.co/]','')\n",
    "#data['tweets'] = data['tweets'].str.replace('[a-zA-Z0-9]','')\n",
    "\n",
    "data['tweets'].head()"
   ]
  },
  {
   "cell_type": "code",
   "execution_count": 13,
   "metadata": {},
   "outputs": [
    {
     "data": {
      "text/plain": [
       "0    20191023 033007 rt ericgarland america charged...\n",
       "1                                    america must getâ\n",
       "2    20191023 033006 rt motherjones sen amy klobuch...\n",
       "3    20191023 033006 rt lanadelreyfans used witchcr...\n",
       "4    20191023 033006 rt andy_arcamax trump says imp...\n",
       "Name: tweets, dtype: object"
      ]
     },
     "execution_count": 13,
     "metadata": {},
     "output_type": "execute_result"
    }
   ],
   "source": [
    "# Removal of stop words\n",
    "\n",
    "\n",
    "from nltk.corpus import stopwords\n",
    "stop = stopwords.words('english')\n",
    "data['tweets'] = data['tweets'].apply(lambda x: \" \".join(x for x in x.split() if x not in stop))\n",
    "data['tweets'].head()\n"
   ]
  },
  {
   "cell_type": "code",
   "execution_count": 14,
   "metadata": {},
   "outputs": [
    {
     "data": {
      "text/plain": [
       "20191023       189\n",
       "rt             170\n",
       "donald         122\n",
       "trump          112\n",
       "know            30\n",
       "president       26\n",
       "trumps          24\n",
       "trumpâs         24\n",
       "bill            21\n",
       "impeachment     18\n",
       "dtype: int64"
      ]
     },
     "execution_count": 14,
     "metadata": {},
     "output_type": "execute_result"
    }
   ],
   "source": [
    "# Common word removal\n",
    "\n",
    "freq = pd.Series(' '.join(data['tweets']).split()).value_counts()[:10]\n",
    "freq"
   ]
  },
  {
   "cell_type": "code",
   "execution_count": 15,
   "metadata": {},
   "outputs": [
    {
     "data": {
      "text/plain": [
       "0    033007 ericgarland america charged impeaching ...\n",
       "1                                    america must getâ\n",
       "2    033006 motherjones sen amy klobuchar released ...\n",
       "3    033006 lanadelreyfans used witchcraft still â ...\n",
       "4    033006 andy_arcamax says inquiry conducted unf...\n",
       "Name: tweets, dtype: object"
      ]
     },
     "execution_count": 15,
     "metadata": {},
     "output_type": "execute_result"
    }
   ],
   "source": [
    "freq = list(freq.index)\n",
    "data['tweets'] = data['tweets'].apply(lambda x: \" \".join(x for x in x.split() if x not in freq))\n",
    "data['tweets'].head()"
   ]
  },
  {
   "cell_type": "code",
   "execution_count": 16,
   "metadata": {},
   "outputs": [
    {
     "data": {
      "text/plain": [
       "0    033007 ericgarland america charged impeaching ...\n",
       "1                                     america must get\n",
       "2    033006 motherjones men amy klobuchar released ...\n",
       "3    033006 lanadelreyfans used witchcraft still â ...\n",
       "4    033006 andy_arcamax says inquiry conducted unf...\n",
       "Name: tweets, dtype: object"
      ]
     },
     "execution_count": 16,
     "metadata": {},
     "output_type": "execute_result"
    }
   ],
   "source": [
    "# spelling correction\n",
    "\n",
    "from textblob import TextBlob\n",
    "data['tweets'][:5].apply(lambda x: str(TextBlob(x).correct()))"
   ]
  },
  {
   "cell_type": "code",
   "execution_count": 17,
   "metadata": {},
   "outputs": [],
   "source": [
    "# Tokenization\n",
    "\n",
    "from nltk import tokenize\n",
    "from textblob import TextBlob\n"
   ]
  },
  {
   "cell_type": "code",
   "execution_count": 18,
   "metadata": {},
   "outputs": [
    {
     "data": {
      "text/plain": [
       "WordList(['america', 'must', 'getâ'])"
      ]
     },
     "execution_count": 18,
     "metadata": {},
     "output_type": "execute_result"
    }
   ],
   "source": [
    "TextBlob(data['tweets'][1]).words\n"
   ]
  },
  {
   "cell_type": "code",
   "execution_count": 19,
   "metadata": {},
   "outputs": [
    {
     "data": {
      "text/plain": [
       "0    033007 ericgarland america charg impeach much ...\n",
       "1                                    america must getâ\n",
       "2    033006 motherjon sen ami klobuchar releas evid...\n",
       "3    033006 lanadelreyfan use witchcraft still â la...\n",
       "4    033006 andy_arcamax say inquiri conduct unfair...\n",
       "Name: tweets, dtype: object"
      ]
     },
     "execution_count": 19,
     "metadata": {},
     "output_type": "execute_result"
    }
   ],
   "source": [
    "# Stemming\n",
    "\n",
    "from nltk.stem import PorterStemmer\n",
    "st = PorterStemmer()\n",
    "data['tweets'][:5].apply(lambda x: \" \".join([st.stem(word) for word in x.split()]))"
   ]
  },
  {
   "cell_type": "code",
   "execution_count": 20,
   "metadata": {},
   "outputs": [
    {
     "name": "stdout",
     "output_type": "stream",
     "text": [
      "[nltk_data] Downloading package wordnet to\n",
      "[nltk_data]     C:\\Users\\Admin\\AppData\\Roaming\\nltk_data...\n",
      "[nltk_data]   Package wordnet is already up-to-date!\n"
     ]
    },
    {
     "data": {
      "text/plain": [
       "0    033007 ericgarland america charged impeaching ...\n",
       "1                                    america must getâ\n",
       "2    033006 motherjones sen amy klobuchar released ...\n",
       "3    033006 lanadelreyfans used witchcraft still â ...\n",
       "4    033006 andy_arcamax say inquiry conducted unfa...\n",
       "Name: tweets, dtype: object"
      ]
     },
     "execution_count": 20,
     "metadata": {},
     "output_type": "execute_result"
    }
   ],
   "source": [
    "# Lemmatization\n",
    "\n",
    "\n",
    "import nltk\n",
    "from textblob import Word\n",
    "nltk.download('wordnet')\n",
    "data['tweets'] = data['tweets'].apply(lambda x: \" \".join([Word(word).lemmatize() for word in x.split()]))\n",
    "data['tweets'].head()\n"
   ]
  },
  {
   "cell_type": "code",
   "execution_count": 22,
   "metadata": {},
   "outputs": [
    {
     "data": {
      "image/png": "[encoded data removed]",
      "text/plain": [
       "<Figure size 720x504 with 1 Axes>"
      ]
     },
     "metadata": {
      "needs_background": "light"
     },
     "output_type": "display_data"
    }
   ],
   "source": [
    "import matplotlib.pyplot as plt\n",
    "\n",
    "all_words = ' '.join([text for text in data['tweets']])\n",
    "from wordcloud import WordCloud\n",
    "wordcloud = WordCloud(width=1000, height=700, random_state=21, max_font_size=110).generate(all_words)\n",
    "\n",
    "plt.figure(figsize=(10, 7))\n",
    "plt.imshow(wordcloud, interpolation=\"bilinear\")\n",
    "plt.axis('off')\n",
    "plt.show()"
   ]
  },
  {
   "cell_type": "code",
   "execution_count": 23,
   "metadata": {},
   "outputs": [
    {
     "data": {
      "text/plain": [
       "[WordList(['033007', 'ericgarland']),\n",
       " WordList(['ericgarland', 'america']),\n",
       " WordList(['america', 'charged']),\n",
       " WordList(['charged', 'impeaching']),\n",
       " WordList(['impeaching', 'much']),\n",
       " WordList(['much', 'far']),\n",
       " WordList(['far', 'beyond']),\n",
       " WordList(['beyond', 'obvious'])]"
      ]
     },
     "execution_count": 23,
     "metadata": {},
     "output_type": "execute_result"
    }
   ],
   "source": [
    "# Advance text processing\n",
    "# N-grams\n",
    "TextBlob(data['tweets'][0]).ngrams(2)"
   ]
  },
  {
   "cell_type": "code",
   "execution_count": 24,
   "metadata": {},
   "outputs": [
    {
     "data": {
      "text/html": [
       "<div>\n",
       "<style scoped>\n",
       "    .dataframe tbody tr th:only-of-type {\n",
       "        vertical-align: middle;\n",
       "    }\n",
       "\n",
       "    .dataframe tbody tr th {\n",
       "        vertical-align: top;\n",
       "    }\n",
       "\n",
       "    .dataframe thead th {\n",
       "        text-align: right;\n",
       "    }\n",
       "</style>\n",
       "<table border=\"1\" class=\"dataframe\">\n",
       "  <thead>\n",
       "    <tr style=\"text-align: right;\">\n",
       "      <th></th>\n",
       "      <th>words</th>\n",
       "      <th>tf</th>\n",
       "    </tr>\n",
       "  </thead>\n",
       "  <tbody>\n",
       "    <tr>\n",
       "      <th>0</th>\n",
       "      <td>must</td>\n",
       "      <td>1</td>\n",
       "    </tr>\n",
       "    <tr>\n",
       "      <th>1</th>\n",
       "      <td>getâ</td>\n",
       "      <td>1</td>\n",
       "    </tr>\n",
       "    <tr>\n",
       "      <th>2</th>\n",
       "      <td>america</td>\n",
       "      <td>1</td>\n",
       "    </tr>\n",
       "  </tbody>\n",
       "</table>\n",
       "</div>"
      ],
      "text/plain": [
       "     words  tf\n",
       "0     must   1\n",
       "1     getâ   1\n",
       "2  america   1"
      ]
     },
     "execution_count": 24,
     "metadata": {},
     "output_type": "execute_result"
    }
   ],
   "source": [
    "#Term frequency\n",
    "\n",
    "tf1 = (data['tweets'][1:2]).apply(lambda x: pd.value_counts(x.split(\" \"))).sum(axis = 0).reset_index()\n",
    "tf1.columns = ['words','tf']\n",
    "tf1"
   ]
  },
  {
   "cell_type": "code",
   "execution_count": 25,
   "metadata": {},
   "outputs": [
    {
     "data": {
      "text/html": [
       "<div>\n",
       "<style scoped>\n",
       "    .dataframe tbody tr th:only-of-type {\n",
       "        vertical-align: middle;\n",
       "    }\n",
       "\n",
       "    .dataframe tbody tr th {\n",
       "        vertical-align: top;\n",
       "    }\n",
       "\n",
       "    .dataframe thead th {\n",
       "        text-align: right;\n",
       "    }\n",
       "</style>\n",
       "<table border=\"1\" class=\"dataframe\">\n",
       "  <thead>\n",
       "    <tr style=\"text-align: right;\">\n",
       "      <th></th>\n",
       "      <th>words</th>\n",
       "      <th>tf</th>\n",
       "      <th>idf</th>\n",
       "    </tr>\n",
       "  </thead>\n",
       "  <tbody>\n",
       "    <tr>\n",
       "      <th>0</th>\n",
       "      <td>must</td>\n",
       "      <td>1</td>\n",
       "      <td>3.795489</td>\n",
       "    </tr>\n",
       "    <tr>\n",
       "      <th>1</th>\n",
       "      <td>getâ</td>\n",
       "      <td>1</td>\n",
       "      <td>5.587249</td>\n",
       "    </tr>\n",
       "    <tr>\n",
       "      <th>2</th>\n",
       "      <td>america</td>\n",
       "      <td>1</td>\n",
       "      <td>2.879198</td>\n",
       "    </tr>\n",
       "  </tbody>\n",
       "</table>\n",
       "</div>"
      ],
      "text/plain": [
       "     words  tf       idf\n",
       "0     must   1  3.795489\n",
       "1     getâ   1  5.587249\n",
       "2  america   1  2.879198"
      ]
     },
     "execution_count": 25,
     "metadata": {},
     "output_type": "execute_result"
    }
   ],
   "source": [
    "# Inverse document frequency\n",
    "\n",
    "import numpy as np\n",
    "for i,word in enumerate(tf1['words']):\n",
    "  tf1.loc[i, 'idf'] = np.log(data.shape[0]/(len(data[data['tweets'].str.contains(word)])))\n",
    "\n",
    "tf1\n"
   ]
  },
  {
   "cell_type": "code",
   "execution_count": 26,
   "metadata": {},
   "outputs": [
    {
     "data": {
      "text/html": [
       "<div>\n",
       "<style scoped>\n",
       "    .dataframe tbody tr th:only-of-type {\n",
       "        vertical-align: middle;\n",
       "    }\n",
       "\n",
       "    .dataframe tbody tr th {\n",
       "        vertical-align: top;\n",
       "    }\n",
       "\n",
       "    .dataframe thead th {\n",
       "        text-align: right;\n",
       "    }\n",
       "</style>\n",
       "<table border=\"1\" class=\"dataframe\">\n",
       "  <thead>\n",
       "    <tr style=\"text-align: right;\">\n",
       "      <th></th>\n",
       "      <th>words</th>\n",
       "      <th>tf</th>\n",
       "      <th>idf</th>\n",
       "      <th>tfidf</th>\n",
       "    </tr>\n",
       "  </thead>\n",
       "  <tbody>\n",
       "    <tr>\n",
       "      <th>0</th>\n",
       "      <td>must</td>\n",
       "      <td>1</td>\n",
       "      <td>3.795489</td>\n",
       "      <td>3.795489</td>\n",
       "    </tr>\n",
       "    <tr>\n",
       "      <th>1</th>\n",
       "      <td>getâ</td>\n",
       "      <td>1</td>\n",
       "      <td>5.587249</td>\n",
       "      <td>5.587249</td>\n",
       "    </tr>\n",
       "    <tr>\n",
       "      <th>2</th>\n",
       "      <td>america</td>\n",
       "      <td>1</td>\n",
       "      <td>2.879198</td>\n",
       "      <td>2.879198</td>\n",
       "    </tr>\n",
       "  </tbody>\n",
       "</table>\n",
       "</div>"
      ],
      "text/plain": [
       "     words  tf       idf     tfidf\n",
       "0     must   1  3.795489  3.795489\n",
       "1     getâ   1  5.587249  5.587249\n",
       "2  america   1  2.879198  2.879198"
      ]
     },
     "execution_count": 26,
     "metadata": {},
     "output_type": "execute_result"
    }
   ],
   "source": [
    "# TF-IDF\n",
    "# multiplication of TF and IDF\n",
    "\n",
    "tf1['tfidf'] = tf1['tf'] * tf1['idf']\n",
    "tf1"
   ]
  },
  {
   "cell_type": "code",
   "execution_count": 27,
   "metadata": {},
   "outputs": [
    {
     "data": {
      "text/plain": [
       "<267x888 sparse matrix of type '<class 'numpy.int64'>'\n",
       "\twith 2257 stored elements in Compressed Sparse Row format>"
      ]
     },
     "execution_count": 27,
     "metadata": {},
     "output_type": "execute_result"
    }
   ],
   "source": [
    "# Bag of words\n",
    "\n",
    "from sklearn.feature_extraction.text import CountVectorizer\n",
    "bow = CountVectorizer(max_features=1000, lowercase=True, ngram_range=(1,1),analyzer = \"word\")\n",
    "data_bow = bow.fit_transform(data['tweets'])\n",
    "data_bow"
   ]
  },
  {
   "cell_type": "code",
   "execution_count": 28,
   "metadata": {},
   "outputs": [
    {
     "data": {
      "text/plain": [
       "0    (0.05, 0.75)\n",
       "1      (0.0, 0.0)\n",
       "2     (-0.3, 0.2)\n",
       "3      (0.0, 0.0)\n",
       "4     (-0.4, 0.7)\n",
       "Name: tweets, dtype: object"
      ]
     },
     "execution_count": 28,
     "metadata": {},
     "output_type": "execute_result"
    }
   ],
   "source": [
    "# sentiment analysis\n",
    "\n",
    "data['tweets'][:5].apply(lambda x: TextBlob(x).sentiment)"
   ]
  },
  {
   "cell_type": "code",
   "execution_count": 29,
   "metadata": {},
   "outputs": [
    {
     "data": {
      "text/html": [
       "<div>\n",
       "<style scoped>\n",
       "    .dataframe tbody tr th:only-of-type {\n",
       "        vertical-align: middle;\n",
       "    }\n",
       "\n",
       "    .dataframe tbody tr th {\n",
       "        vertical-align: top;\n",
       "    }\n",
       "\n",
       "    .dataframe thead th {\n",
       "        text-align: right;\n",
       "    }\n",
       "</style>\n",
       "<table border=\"1\" class=\"dataframe\">\n",
       "  <thead>\n",
       "    <tr style=\"text-align: right;\">\n",
       "      <th></th>\n",
       "      <th>tweets</th>\n",
       "      <th>sentiment</th>\n",
       "    </tr>\n",
       "  </thead>\n",
       "  <tbody>\n",
       "    <tr>\n",
       "      <th>0</th>\n",
       "      <td>033007 ericgarland america charged impeaching ...</td>\n",
       "      <td>0.05</td>\n",
       "    </tr>\n",
       "    <tr>\n",
       "      <th>1</th>\n",
       "      <td>america must getâ</td>\n",
       "      <td>0.00</td>\n",
       "    </tr>\n",
       "    <tr>\n",
       "      <th>2</th>\n",
       "      <td>033006 motherjones sen amy klobuchar released ...</td>\n",
       "      <td>-0.30</td>\n",
       "    </tr>\n",
       "    <tr>\n",
       "      <th>3</th>\n",
       "      <td>033006 lanadelreyfans used witchcraft still â ...</td>\n",
       "      <td>0.00</td>\n",
       "    </tr>\n",
       "    <tr>\n",
       "      <th>4</th>\n",
       "      <td>033006 andy_arcamax say inquiry conducted unfa...</td>\n",
       "      <td>-0.40</td>\n",
       "    </tr>\n",
       "  </tbody>\n",
       "</table>\n",
       "</div>"
      ],
      "text/plain": [
       "                                              tweets  sentiment\n",
       "0  033007 ericgarland america charged impeaching ...       0.05\n",
       "1                                  america must getâ       0.00\n",
       "2  033006 motherjones sen amy klobuchar released ...      -0.30\n",
       "3  033006 lanadelreyfans used witchcraft still â ...       0.00\n",
       "4  033006 andy_arcamax say inquiry conducted unfa...      -0.40"
      ]
     },
     "execution_count": 29,
     "metadata": {},
     "output_type": "execute_result"
    }
   ],
   "source": [
    "data['sentiment'] = data['tweets'].apply(lambda x: TextBlob(x).sentiment[0] )\n",
    "data[['tweets','sentiment']].head()\n"
   ]
  },
  {
   "cell_type": "code",
   "execution_count": 30,
   "metadata": {},
   "outputs": [
    {
     "data": {
      "text/plain": [
       "0    0.05\n",
       "1    0.00\n",
       "2   -0.30\n",
       "3    0.00\n",
       "4   -0.40\n",
       "Name: sentiment, dtype: float64"
      ]
     },
     "execution_count": 30,
     "metadata": {},
     "output_type": "execute_result"
    }
   ],
   "source": [
    "data['sentiment'].head()"
   ]
  },
  {
   "cell_type": "code",
   "execution_count": 31,
   "metadata": {},
   "outputs": [
    {
     "data": {
      "image/png": "[encoded data removed]",
      "text/plain": [
       "<Figure size 432x288 with 1 Axes>"
      ]
     },
     "metadata": {
      "needs_background": "light"
     },
     "output_type": "display_data"
    }
   ],
   "source": [
    "import matplotlib.pyplot as plt\n",
    "plt.hist(data.sentiment,bins=3,align='mid')\n",
    "\n",
    "plt.xlabel('sentiment of tweets')\n",
    "plt.title('distribution of sentiment')\n",
    "plt.show()"
   ]
  },
  {
   "cell_type": "code",
   "execution_count": 32,
   "metadata": {},
   "outputs": [],
   "source": [
    "# EDA\n",
    "\n",
    "# normal function example\n",
    "def my_normal_function(x):\n",
    "    return x**2 + 10\n",
    "# lambda function example\n",
    "my_lambda_function = lambda x: x**2 + 10\n"
   ]
  },
  {
   "cell_type": "code",
   "execution_count": 33,
   "metadata": {},
   "outputs": [
    {
     "data": {
      "text/plain": [
       "0"
      ]
     },
     "execution_count": 33,
     "metadata": {},
     "output_type": "execute_result"
    }
   ],
   "source": [
    "# make a new column to highlight retweets\n",
    "data['is_retweet'] = data['tweets'].apply(lambda x: x[:2]=='RT')\n",
    "data['is_retweet'].sum()  # number of retweets"
   ]
  },
  {
   "cell_type": "code",
   "execution_count": 34,
   "metadata": {},
   "outputs": [
    {
     "data": {
      "text/plain": [
       "0"
      ]
     },
     "execution_count": 34,
     "metadata": {},
     "output_type": "execute_result"
    }
   ],
   "source": [
    "# number of unique retweets\n",
    "data.loc[data['is_retweet']].tweets.unique().size"
   ]
  },
  {
   "cell_type": "code",
   "execution_count": 35,
   "metadata": {},
   "outputs": [
    {
     "data": {
      "text/html": [
       "<div>\n",
       "<style scoped>\n",
       "    .dataframe tbody tr th:only-of-type {\n",
       "        vertical-align: middle;\n",
       "    }\n",
       "\n",
       "    .dataframe tbody tr th {\n",
       "        vertical-align: top;\n",
       "    }\n",
       "\n",
       "    .dataframe thead th {\n",
       "        text-align: right;\n",
       "    }\n",
       "</style>\n",
       "<table border=\"1\" class=\"dataframe\">\n",
       "  <thead>\n",
       "    <tr style=\"text-align: right;\">\n",
       "      <th></th>\n",
       "      <th>tweets</th>\n",
       "      <th>counts</th>\n",
       "    </tr>\n",
       "  </thead>\n",
       "  <tbody>\n",
       "    <tr>\n",
       "      <th>228</th>\n",
       "      <td>âtodayâs key sentence âambassador sondland sai...</td>\n",
       "      <td>6</td>\n",
       "    </tr>\n",
       "    <tr>\n",
       "      <th>215</th>\n",
       "      <td>rudy giuliani</td>\n",
       "      <td>6</td>\n",
       "    </tr>\n",
       "    <tr>\n",
       "      <th>204</th>\n",
       "      <td>gorâ</td>\n",
       "      <td>6</td>\n",
       "    </tr>\n",
       "    <tr>\n",
       "      <th>218</th>\n",
       "      <td>taylor</td>\n",
       "      <td>6</td>\n",
       "    </tr>\n",
       "    <tr>\n",
       "      <th>216</th>\n",
       "      <td>said walk valley death amp river fire vote mâ</td>\n",
       "      <td>5</td>\n",
       "    </tr>\n",
       "    <tr>\n",
       "      <th>208</th>\n",
       "      <td>impeachmenttaskforâ</td>\n",
       "      <td>4</td>\n",
       "    </tr>\n",
       "    <tr>\n",
       "      <th>227</th>\n",
       "      <td>âabuse power crimeâ</td>\n",
       "      <td>4</td>\n",
       "    </tr>\n",
       "    <tr>\n",
       "      <th>210</th>\n",
       "      <td>itâs stunning witnessâ</td>\n",
       "      <td>3</td>\n",
       "    </tr>\n",
       "    <tr>\n",
       "      <th>194</th>\n",
       "      <td>american never would known dirty democrat</td>\n",
       "      <td>2</td>\n",
       "    </tr>\n",
       "    <tr>\n",
       "      <th>203</th>\n",
       "      <td>fucked</td>\n",
       "      <td>2</td>\n",
       "    </tr>\n",
       "  </tbody>\n",
       "</table>\n",
       "</div>"
      ],
      "text/plain": [
       "                                                tweets  counts\n",
       "228  âtodayâs key sentence âambassador sondland sai...       6\n",
       "215                                      rudy giuliani       6\n",
       "204                                               gorâ       6\n",
       "218                                             taylor       6\n",
       "216      said walk valley death amp river fire vote mâ       5\n",
       "208                                impeachmenttaskforâ       4\n",
       "227                                âabuse power crimeâ       4\n",
       "210                             itâs stunning witnessâ       3\n",
       "194          american never would known dirty democrat       2\n",
       "203                                             fucked       2"
      ]
     },
     "execution_count": 35,
     "metadata": {},
     "output_type": "execute_result"
    }
   ],
   "source": [
    "# 10 most repeated tweets\n",
    "data.groupby(['tweets']).size().reset_index(name='counts')\\\n",
    "  .sort_values('counts', ascending=False).head(10)"
   ]
  },
  {
   "cell_type": "code",
   "execution_count": 36,
   "metadata": {},
   "outputs": [
    {
     "data": {
      "image/png": "[encoded data removed]",
      "text/plain": [
       "<Figure size 432x288 with 1 Axes>"
      ]
     },
     "metadata": {
      "needs_background": "light"
     },
     "output_type": "display_data"
    }
   ],
   "source": [
    "# number of times each tweet appears\n",
    "counts = data.groupby(['tweets']).size()\\\n",
    "           .reset_index(name='counts')\\\n",
    "           .counts\n",
    "\n",
    "# define bins for histogram\n",
    "my_bins = np.arange(0,counts.max()+2, 1)-0.5\n",
    "\n",
    "# plot histogram of tweet counts\n",
    "plt.figure()\n",
    "plt.hist(counts, bins = my_bins)\n",
    "plt.xlabels = np.arange(1,counts.max()+1, 1)\n",
    "plt.xlabel('copies of each tweet')\n",
    "plt.ylabel('frequency')\n",
    "plt.yscale('log', nonposy='clip')\n",
    "plt.show()"
   ]
  },
  {
   "cell_type": "code",
   "execution_count": 37,
   "metadata": {},
   "outputs": [],
   "source": [
    "def find_retweeted(tweets):\n",
    "    '''This function will extract the twitter handles of retweed people'''\n",
    "    return re.findall('(?<=RT\\s)(@[A-Za-z]+[A-Za-z0-9-_]+)', tweets)\n",
    "\n",
    "def find_mentioned(tweets):\n",
    "    '''This function will extract the twitter handles of people mentioned in the tweet'''\n",
    "    return re.findall('(?<!RT\\s)(@[A-Za-z]+[A-Za-z0-9-_]+)', tweets)  \n",
    "\n",
    "def find_hashtags(tweets):\n",
    "    '''This function will extract hashtags'''\n",
    "    return re.findall('(#[A-Za-z]+[A-Za-z0-9-_]+)', tweets) "
   ]
  },
  {
   "cell_type": "code",
   "execution_count": 40,
   "metadata": {},
   "outputs": [],
   "source": [
    "# two sample tweets\n",
    "my_tweet = 'RT @our_codingclub: Can @you find #all the #hashtags?'\n",
    "my_other_tweet = 'Not a retweet. All views @my own'"
   ]
  },
  {
   "cell_type": "code",
   "execution_count": 41,
   "metadata": {},
   "outputs": [],
   "source": [
    "# make new columns for retweeted usernames, mentioned usernames and hashtags\n",
    "\n",
    "\n",
    "import re\n",
    "data['retweeted'] = data.tweets.apply(find_retweeted)\n",
    "data['mentioned'] = data.tweets.apply(find_mentioned)\n",
    "data['hashtags'] = data.tweets.apply(find_hashtags)"
   ]
  },
  {
   "cell_type": "code",
   "execution_count": 42,
   "metadata": {},
   "outputs": [],
   "source": [
    "# take the rows from the hashtag columns where there are actually hashtags\n",
    "hashtags_list_df = data.loc[\n",
    "                       data.hashtags.apply(\n",
    "                           lambda hashtags_list: hashtags_list !=[]\n",
    "                       ),['hashtags']]\n"
   ]
  },
  {
   "cell_type": "code",
   "execution_count": 43,
   "metadata": {},
   "outputs": [],
   "source": [
    "# create dataframe where each use of hashtag gets its own row\n",
    "flattened_hashtags_df = pd.DataFrame(\n",
    "    [hashtag for hashtags_list in hashtags_list_df.hashtags\n",
    "    for hashtag in hashtags_list],\n",
    "    columns=['hashtag'])"
   ]
  },
  {
   "cell_type": "code",
   "execution_count": 44,
   "metadata": {},
   "outputs": [
    {
     "data": {
      "text/plain": [
       "0"
      ]
     },
     "execution_count": 44,
     "metadata": {},
     "output_type": "execute_result"
    }
   ],
   "source": [
    "# number of unique hashtags\n",
    "flattened_hashtags_df['hashtag'].unique().size"
   ]
  },
  {
   "cell_type": "code",
   "execution_count": 45,
   "metadata": {},
   "outputs": [],
   "source": [
    "# cleaning unsructured text data\n",
    "\n",
    "\n",
    "import nltk\n",
    "from nltk.tokenize import RegexpTokenizer\n",
    "from nltk.corpus import stopwords"
   ]
  },
  {
   "cell_type": "code",
   "execution_count": 46,
   "metadata": {},
   "outputs": [],
   "source": [
    "def remove_links(tweet):\n",
    "    '''Takes a string and removes web links from it'''\n",
    "    tweet = re.sub(r'http\\S+', '', tweet) # remove http links\n",
    "    tweet = re.sub(r'bit.ly/\\S+', '', tweet) # rempve bitly links\n",
    "    tweet = tweet.strip('[link]') # remove [links]\n",
    "    return tweet\n",
    "\n",
    "def remove_users(tweet):\n",
    "    '''Takes a string and removes retweet and @user information'''\n",
    "    tweet = re.sub('(RT\\s@[A-Za-z]+[A-Za-z0-9-_]+)', '', tweet) # remove retweet\n",
    "    tweet = re.sub('(@[A-Za-z]+[A-Za-z0-9-_]+)', '', tweet) # remove tweeted at\n",
    "    return tweet"
   ]
  },
  {
   "cell_type": "code",
   "execution_count": 47,
   "metadata": {},
   "outputs": [],
   "source": [
    "my_stopwords = nltk.corpus.stopwords.words('english')\n",
    "word_rooter = nltk.stem.snowball.PorterStemmer(ignore_stopwords=False).stem\n",
    "my_punctuation = '!\"$%&\\'()*+,-./:;<=>?[\\\\]^_`{|}~•@'\n",
    "\n",
    "# cleaning master function\n",
    "def clean_tweet(tweet, bigrams=False):\n",
    "    tweet = remove_users(tweet)\n",
    "    tweet = remove_links(tweet)\n",
    "    tweet = tweet.lower() # lower case\n",
    "    tweet = re.sub('['+my_punctuation + ']+', ' ', tweet) # strip punctuation\n",
    "    tweet = re.sub('\\s+', ' ', tweet) #remove double spacing\n",
    "    tweet = re.sub('([0-9]+)', '', tweet) # remove numbers\n",
    "    tweet_token_list = [word for word in tweet.split(' ')\n",
    "                            if word not in my_stopwords] # remove stopwords\n",
    "\n",
    "    tweet_token_list = [word_rooter(word) if '#' not in word else word\n",
    "                        for word in tweet_token_list] # apply word rooter\n",
    "    if bigrams:\n",
    "        tweet_token_list = tweet_token_list+[tweet_token_list[i]+'_'+tweet_token_list[i+1]\n",
    "                                            for i in range(len(tweet_token_list)-1)]\n",
    "    tweet = ' '.join(tweet_token_list)\n",
    "    return tweet"
   ]
  },
  {
   "cell_type": "code",
   "execution_count": 48,
   "metadata": {},
   "outputs": [],
   "source": [
    "data['clean_tweet'] = data.tweets.apply(clean_tweet)"
   ]
  },
  {
   "cell_type": "code",
   "execution_count": 49,
   "metadata": {},
   "outputs": [],
   "source": [
    "# Applying topic modelling\n",
    "\n",
    "\n",
    "from sklearn.feature_extraction.text import CountVectorizer\n",
    "\n",
    "# the vectorizer object will be used to transform text to vector form\n",
    "vectorizer = CountVectorizer(max_df=1.0, min_df=1, token_pattern='\\w+|\\$[\\d\\.]+|\\S+')\n",
    "\n",
    "# apply transformation\n",
    "tf = vectorizer.fit_transform(data['clean_tweet']).toarray()\n",
    "\n",
    "# tf_feature_names tells us what word each column in the matric represents\n",
    "tf_feature_names = vectorizer.get_feature_names()"
   ]
  },
  {
   "cell_type": "code",
   "execution_count": 50,
   "metadata": {},
   "outputs": [],
   "source": [
    "from sklearn.decomposition import LatentDirichletAllocation\n",
    "\n",
    "number_of_topics = 10\n",
    "\n",
    "model = LatentDirichletAllocation(n_components=number_of_topics, random_state=0)"
   ]
  },
  {
   "cell_type": "code",
   "execution_count": 51,
   "metadata": {},
   "outputs": [
    {
     "name": "stderr",
     "output_type": "stream",
     "text": [
      "C:\\Users\\Admin\\Anaconda3\\lib\\site-packages\\sklearn\\decomposition\\online_lda.py:536: DeprecationWarning: The default value for 'learning_method' will be changed from 'online' to 'batch' in the release 0.20. This warning was introduced in 0.18.\n",
      "  DeprecationWarning)\n"
     ]
    },
    {
     "data": {
      "text/plain": [
       "LatentDirichletAllocation(batch_size=128, doc_topic_prior=None,\n",
       "             evaluate_every=-1, learning_decay=0.7, learning_method=None,\n",
       "             learning_offset=10.0, max_doc_update_iter=100, max_iter=10,\n",
       "             mean_change_tol=0.001, n_components=10, n_jobs=1,\n",
       "             n_topics=None, perp_tol=0.1, random_state=0,\n",
       "             topic_word_prior=None, total_samples=1000000.0, verbose=0)"
      ]
     },
     "execution_count": 51,
     "metadata": {},
     "output_type": "execute_result"
    }
   ],
   "source": [
    "model.fit(tf)"
   ]
  },
  {
   "cell_type": "code",
   "execution_count": 52,
   "metadata": {},
   "outputs": [],
   "source": [
    "def display_topics(model, feature_names, no_top_words):\n",
    "    topic_dict = {}\n",
    "    for topic_idx, topic in enumerate(model.components_):\n",
    "        topic_dict[\"Topic %d words\" % (topic_idx)]= ['{}'.format(feature_names[i])\n",
    "                        for i in topic.argsort()[:-no_top_words - 1:-1]]\n",
    "        topic_dict[\"Topic %d weights\" % (topic_idx)]= ['{:.1f}'.format(topic[i])\n",
    "                        for i in topic.argsort()[:-no_top_words - 1:-1]]\n",
    "    return pd.DataFrame(topic_dict)"
   ]
  },
  {
   "cell_type": "code",
   "execution_count": 53,
   "metadata": {},
   "outputs": [
    {
     "data": {
      "text/html": [
       "<div>\n",
       "<style scoped>\n",
       "    .dataframe tbody tr th:only-of-type {\n",
       "        vertical-align: middle;\n",
       "    }\n",
       "\n",
       "    .dataframe tbody tr th {\n",
       "        vertical-align: top;\n",
       "    }\n",
       "\n",
       "    .dataframe thead th {\n",
       "        text-align: right;\n",
       "    }\n",
       "</style>\n",
       "<table border=\"1\" class=\"dataframe\">\n",
       "  <thead>\n",
       "    <tr style=\"text-align: right;\">\n",
       "      <th></th>\n",
       "      <th>Topic 0 words</th>\n",
       "      <th>Topic 0 weights</th>\n",
       "      <th>Topic 1 words</th>\n",
       "      <th>Topic 1 weights</th>\n",
       "      <th>Topic 2 words</th>\n",
       "      <th>Topic 2 weights</th>\n",
       "      <th>Topic 3 words</th>\n",
       "      <th>Topic 3 weights</th>\n",
       "      <th>Topic 4 words</th>\n",
       "      <th>Topic 4 weights</th>\n",
       "      <th>Topic 5 words</th>\n",
       "      <th>Topic 5 weights</th>\n",
       "      <th>Topic 6 words</th>\n",
       "      <th>Topic 6 weights</th>\n",
       "      <th>Topic 7 words</th>\n",
       "      <th>Topic 7 weights</th>\n",
       "      <th>Topic 8 words</th>\n",
       "      <th>Topic 8 weights</th>\n",
       "      <th>Topic 9 words</th>\n",
       "      <th>Topic 9 weights</th>\n",
       "    </tr>\n",
       "  </thead>\n",
       "  <tbody>\n",
       "    <tr>\n",
       "      <th>0</th>\n",
       "      <td>ukrain</td>\n",
       "      <td>5.3</td>\n",
       "      <td>whose</td>\n",
       "      <td>26.3</td>\n",
       "      <td>lynch</td>\n",
       "      <td>16.7</td>\n",
       "      <td>still</td>\n",
       "      <td>11.2</td>\n",
       "      <td>say</td>\n",
       "      <td>13.7</td>\n",
       "      <td>rule</td>\n",
       "      <td>12.3</td>\n",
       "      <td>former</td>\n",
       "      <td>12.4</td>\n",
       "      <td>taylor</td>\n",
       "      <td>17.8</td>\n",
       "      <td>impeach</td>\n",
       "      <td>11.7</td>\n",
       "      <td>rudi</td>\n",
       "      <td>4.7</td>\n",
       "    </tr>\n",
       "    <tr>\n",
       "      <th>1</th>\n",
       "      <td>forc</td>\n",
       "      <td>4.8</td>\n",
       "      <td>busi</td>\n",
       "      <td>13.8</td>\n",
       "      <td>latest</td>\n",
       "      <td>15.7</td>\n",
       "      <td>use</td>\n",
       "      <td>11.2</td>\n",
       "      <td>democrat</td>\n",
       "      <td>13.6</td>\n",
       "      <td>nation</td>\n",
       "      <td>11.8</td>\n",
       "      <td>would</td>\n",
       "      <td>11.2</td>\n",
       "      <td>said</td>\n",
       "      <td>16.4</td>\n",
       "      <td>clear</td>\n",
       "      <td>10.5</td>\n",
       "      <td>giulia</td>\n",
       "      <td>4.1</td>\n",
       "    </tr>\n",
       "    <tr>\n",
       "      <th>2</th>\n",
       "      <td>peopl</td>\n",
       "      <td>4.8</td>\n",
       "      <td>real</td>\n",
       "      <td>13.7</td>\n",
       "      <td>need</td>\n",
       "      <td>15.6</td>\n",
       "      <td>â</td>\n",
       "      <td>10.6</td>\n",
       "      <td>inquiri</td>\n",
       "      <td>11.2</td>\n",
       "      <td>appeal</td>\n",
       "      <td>11.1</td>\n",
       "      <td>crewcrew</td>\n",
       "      <td>9.9</td>\n",
       "      <td>sondland</td>\n",
       "      <td>14.6</td>\n",
       "      <td>katyal</td>\n",
       "      <td>10.5</td>\n",
       "      <td>fuck</td>\n",
       "      <td>2.7</td>\n",
       "    </tr>\n",
       "    <tr>\n",
       "      <th>3</th>\n",
       "      <td>admit</td>\n",
       "      <td>4.6</td>\n",
       "      <td>lowlif</td>\n",
       "      <td>13.2</td>\n",
       "      <td>b</td>\n",
       "      <td>15.5</td>\n",
       "      <td>rey</td>\n",
       "      <td>10.6</td>\n",
       "      <td>hous</td>\n",
       "      <td>10.4</td>\n",
       "      <td>immun</td>\n",
       "      <td>11.1</td>\n",
       "      <td>miller</td>\n",
       "      <td>9.3</td>\n",
       "      <td>whistleblow</td>\n",
       "      <td>13.8</td>\n",
       "      <td>case</td>\n",
       "      <td>10.5</td>\n",
       "      <td>usa</td>\n",
       "      <td>1.5</td>\n",
       "    </tr>\n",
       "    <tr>\n",
       "      <th>4</th>\n",
       "      <td>aid</td>\n",
       "      <td>4.1</td>\n",
       "      <td>dad</td>\n",
       "      <td>13.2</td>\n",
       "      <td>doesnât</td>\n",
       "      <td>15.0</td>\n",
       "      <td>lana</td>\n",
       "      <td>10.6</td>\n",
       "      <td>push</td>\n",
       "      <td>9.2</td>\n",
       "      <td>governmeâ</td>\n",
       "      <td>11.1</td>\n",
       "      <td>close</td>\n",
       "      <td>9.3</td>\n",
       "      <td>evid</td>\n",
       "      <td>13.8</td>\n",
       "      <td>neal</td>\n",
       "      <td>10.5</td>\n",
       "      <td>take</td>\n",
       "      <td>1.4</td>\n",
       "    </tr>\n",
       "    <tr>\n",
       "      <th>5</th>\n",
       "      <td>investig</td>\n",
       "      <td>4.1</td>\n",
       "      <td>kenolin</td>\n",
       "      <td>13.2</td>\n",
       "      <td>one</td>\n",
       "      <td>15.0</td>\n",
       "      <td>witchcraft</td>\n",
       "      <td>10.6</td>\n",
       "      <td>arcamax</td>\n",
       "      <td>9.2</td>\n",
       "      <td>claim</td>\n",
       "      <td>11.1</td>\n",
       "      <td>contact</td>\n",
       "      <td>9.3</td>\n",
       "      <td>justic</td>\n",
       "      <td>12.5</td>\n",
       "      <td>book</td>\n",
       "      <td>10.5</td>\n",
       "      <td>go</td>\n",
       "      <td>1.4</td>\n",
       "    </tr>\n",
       "    <tr>\n",
       "      <th>6</th>\n",
       "      <td>numbersmunch</td>\n",
       "      <td>4.1</td>\n",
       "      <td>develop</td>\n",
       "      <td>13.2</td>\n",
       "      <td>donaldjtrumpjr</td>\n",
       "      <td>15.0</td>\n",
       "      <td>del</td>\n",
       "      <td>10.6</td>\n",
       "      <td>conduct</td>\n",
       "      <td>9.2</td>\n",
       "      <td>legal</td>\n",
       "      <td>11.1</td>\n",
       "      <td>accord</td>\n",
       "      <td>9.3</td>\n",
       "      <td>ami</td>\n",
       "      <td>12.5</td>\n",
       "      <td>get</td>\n",
       "      <td>10.4</td>\n",
       "      <td>spi</td>\n",
       "      <td>1.4</td>\n",
       "    </tr>\n",
       "    <tr>\n",
       "      <th>7</th>\n",
       "      <td>use</td>\n",
       "      <td>4.1</td>\n",
       "      <td>thrice</td>\n",
       "      <td>13.2</td>\n",
       "      <td>canât</td>\n",
       "      <td>15.0</td>\n",
       "      <td>lanadelreyfan</td>\n",
       "      <td>9.9</td>\n",
       "      <td>hide</td>\n",
       "      <td>9.2</td>\n",
       "      <td>repugn</td>\n",
       "      <td>11.1</td>\n",
       "      <td>va</td>\n",
       "      <td>9.3</td>\n",
       "      <td>buri</td>\n",
       "      <td>12.5</td>\n",
       "      <td>behind</td>\n",
       "      <td>9.8</td>\n",
       "      <td>presidentelect</td>\n",
       "      <td>0.8</td>\n",
       "    </tr>\n",
       "    <tr>\n",
       "      <th>8</th>\n",
       "      <td>help</td>\n",
       "      <td>4.1</td>\n",
       "      <td>vulgarian</td>\n",
       "      <td>13.2</td>\n",
       "      <td>itâ</td>\n",
       "      <td>15.0</td>\n",
       "      <td>palmerreport</td>\n",
       "      <td>5.4</td>\n",
       "      <td>fâ</td>\n",
       "      <td>9.2</td>\n",
       "      <td>team</td>\n",
       "      <td>11.1</td>\n",
       "      <td>secretari</td>\n",
       "      <td>9.3</td>\n",
       "      <td>depart</td>\n",
       "      <td>12.5</td>\n",
       "      <td>written</td>\n",
       "      <td>9.8</td>\n",
       "      <td>actbrigitt</td>\n",
       "      <td>0.8</td>\n",
       "    </tr>\n",
       "    <tr>\n",
       "      <th>9</th>\n",
       "      <td>tri</td>\n",
       "      <td>1.4</td>\n",
       "      <td>best</td>\n",
       "      <td>13.2</td>\n",
       "      <td>tell</td>\n",
       "      <td>15.0</td>\n",
       "      <td>today</td>\n",
       "      <td>2.8</td>\n",
       "      <td>fact</td>\n",
       "      <td>9.2</td>\n",
       "      <td>maddowblog</td>\n",
       "      <td>11.1</td>\n",
       "      <td>stephen</td>\n",
       "      <td>9.3</td>\n",
       "      <td>releas</td>\n",
       "      <td>12.5</td>\n",
       "      <td>short</td>\n",
       "      <td>9.8</td>\n",
       "      <td>like</td>\n",
       "      <td>0.8</td>\n",
       "    </tr>\n",
       "  </tbody>\n",
       "</table>\n",
       "</div>"
      ],
      "text/plain": [
       "  Topic 0 words Topic 0 weights Topic 1 words Topic 1 weights   Topic 2 words  \\\n",
       "0        ukrain             5.3         whose            26.3           lynch   \n",
       "1          forc             4.8          busi            13.8          latest   \n",
       "2         peopl             4.8          real            13.7            need   \n",
       "3         admit             4.6        lowlif            13.2               b   \n",
       "4           aid             4.1           dad            13.2         doesnât   \n",
       "5      investig             4.1       kenolin            13.2             one   \n",
       "6  numbersmunch             4.1       develop            13.2  donaldjtrumpjr   \n",
       "7           use             4.1        thrice            13.2           canât   \n",
       "8          help             4.1     vulgarian            13.2             itâ   \n",
       "9           tri             1.4          best            13.2            tell   \n",
       "\n",
       "  Topic 2 weights  Topic 3 words Topic 3 weights Topic 4 words  \\\n",
       "0            16.7          still            11.2           say   \n",
       "1            15.7            use            11.2      democrat   \n",
       "2            15.6              â            10.6       inquiri   \n",
       "3            15.5            rey            10.6          hous   \n",
       "4            15.0           lana            10.6          push   \n",
       "5            15.0     witchcraft            10.6       arcamax   \n",
       "6            15.0            del            10.6       conduct   \n",
       "7            15.0  lanadelreyfan             9.9          hide   \n",
       "8            15.0   palmerreport             5.4            fâ   \n",
       "9            15.0          today             2.8          fact   \n",
       "\n",
       "  Topic 4 weights Topic 5 words Topic 5 weights Topic 6 words Topic 6 weights  \\\n",
       "0            13.7          rule            12.3        former            12.4   \n",
       "1            13.6        nation            11.8         would            11.2   \n",
       "2            11.2        appeal            11.1      crewcrew             9.9   \n",
       "3            10.4         immun            11.1        miller             9.3   \n",
       "4             9.2     governmeâ            11.1         close             9.3   \n",
       "5             9.2         claim            11.1       contact             9.3   \n",
       "6             9.2         legal            11.1        accord             9.3   \n",
       "7             9.2        repugn            11.1            va             9.3   \n",
       "8             9.2          team            11.1     secretari             9.3   \n",
       "9             9.2    maddowblog            11.1       stephen             9.3   \n",
       "\n",
       "  Topic 7 words Topic 7 weights Topic 8 words Topic 8 weights   Topic 9 words  \\\n",
       "0        taylor            17.8       impeach            11.7            rudi   \n",
       "1          said            16.4         clear            10.5          giulia   \n",
       "2      sondland            14.6        katyal            10.5            fuck   \n",
       "3   whistleblow            13.8          case            10.5             usa   \n",
       "4          evid            13.8          neal            10.5            take   \n",
       "5        justic            12.5          book            10.5              go   \n",
       "6           ami            12.5           get            10.4             spi   \n",
       "7          buri            12.5        behind             9.8  presidentelect   \n",
       "8        depart            12.5       written             9.8      actbrigitt   \n",
       "9        releas            12.5         short             9.8            like   \n",
       "\n",
       "  Topic 9 weights  \n",
       "0             4.7  \n",
       "1             4.1  \n",
       "2             2.7  \n",
       "3             1.5  \n",
       "4             1.4  \n",
       "5             1.4  \n",
       "6             1.4  \n",
       "7             0.8  \n",
       "8             0.8  \n",
       "9             0.8  "
      ]
     },
     "execution_count": 53,
     "metadata": {},
     "output_type": "execute_result"
    }
   ],
   "source": [
    "no_top_words = 10\n",
    "display_topics(model, tf_feature_names, no_top_words)"
   ]
  }
 ],
 "metadata": {
  "kernelspec": {
   "display_name": "Python 3",
   "language": "python",
   "name": "python3"
  },
  "language_info": {
   "codemirror_mode": {
    "name": "ipython",
    "version": 3
   },
   "file_extension": ".py",
   "mimetype": "text/x-python",
   "name": "python",
   "nbconvert_exporter": "python",
   "pygments_lexer": "ipython3",
   "version": "3.7.0"
  }
 },
 "nbformat": 4,
 "nbformat_minor": 2
}
